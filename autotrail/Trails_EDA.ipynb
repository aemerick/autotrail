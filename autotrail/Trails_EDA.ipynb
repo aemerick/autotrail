{
 "cells": [
  {
   "cell_type": "markdown",
   "metadata": {},
   "source": [
    "## Initial EDA for Insight Project\n",
    "\n",
    "Trying to make some vaguely informative plots for the \"fake it till I make it\" demo"
   ]
  },
  {
   "cell_type": "code",
   "execution_count": 22,
   "metadata": {},
   "outputs": [],
   "source": [
    "%matplotlib inline\n",
    "import numpy as np\n",
    "import os\n",
    "import requests\n",
    "import pandas as pd\n",
    "\n",
    "import sandbox"
   ]
  },
  {
   "cell_type": "code",
   "execution_count": 38,
   "metadata": {},
   "outputs": [],
   "source": [
    "regenerate_dataset = False\n",
    "\n",
    "filename = 'boulder_test.csv'\n",
    "\n",
    "# test: Boulder, CO\n",
    "#\n",
    "# might be nice to figure out a way to SAVE these arguments\n",
    "# to the dataframe ....\n",
    "lat = 40.0274\n",
    "lon = -105.2519\n",
    "minLength    = 0.5\n",
    "maxDistance  = 25\n",
    "maxResults   = 500\n",
    "\n",
    "# make an API call\n",
    "if regenerate_dataset:\n",
    "    private_key = open('privatekey.secret').read().strip()\n",
    "\n",
    "    response = sandbox.getTrails(private_key, lat, lon,\n",
    "                                 # verbose = True,\n",
    "                                 sort='distance',\n",
    "                                 minLength=minLength,\n",
    "                                 maxDistance=maxDistance, maxResults=maxResults)\n",
    "    \n",
    "    \n",
    "    df = pd.DataFrame(response.json()['trails'])\n",
    "    df.to_csv(filename)\n",
    "    \n",
    "else:\n",
    "    # load from file \n",
    "    pd.read_csv(filename)"
   ]
  },
  {
   "cell_type": "code",
   "execution_count": 41,
   "metadata": {},
   "outputs": [
    {
     "data": {
      "text/plain": [
       "Index(['ascent', 'conditionDate', 'conditionDetails', 'conditionStatus',\n",
       "       'descent', 'difficulty', 'high', 'id', 'imgMedium', 'imgSmall',\n",
       "       'imgSmallMed', 'imgSqSmall', 'latitude', 'length', 'location',\n",
       "       'longitude', 'low', 'name', 'starVotes', 'stars', 'summary', 'type',\n",
       "       'url'],\n",
       "      dtype='object')"
      ]
     },
     "execution_count": 41,
     "metadata": {},
     "output_type": "execute_result"
    }
   ],
   "source": [
    "df.columns"
   ]
  },
  {
   "cell_type": "code",
   "execution_count": null,
   "metadata": {},
   "outputs": [],
   "source": []
  },
  {
   "cell_type": "code",
   "execution_count": 51,
   "metadata": {},
   "outputs": [
    {
     "data": {
      "image/png": "[encoded data removed]",
      "text/plain": [
       "<Figure size 432x432 with 3 Axes>"
      ]
     },
     "metadata": {
      "needs_background": "light"
     },
     "output_type": "display_data"
    }
   ],
   "source": [
    "import seaborn as sns\n",
    "\n",
    "#\n",
    "# Distribution of non-unique, user-generated trails\n",
    "# within 25 miles of Boulder, CO\n",
    "#\n",
    "snplot = sns.jointplot(data=df, x='length',y='ascent')\n",
    "#nplot.semilogy()\n",
    "#nplot.set_xlim(0,80)"
   ]
  },
  {
   "cell_type": "code",
   "execution_count": 52,
   "metadata": {},
   "outputs": [
    {
     "ename": "SyntaxError",
     "evalue": "invalid syntax (<ipython-input-52-fcca27260c0a>, line 1)",
     "output_type": "error",
     "traceback": [
      "\u001b[0;36m  File \u001b[0;32m\"<ipython-input-52-fcca27260c0a>\"\u001b[0;36m, line \u001b[0;32m1\u001b[0m\n\u001b[0;31m    snplot.plot.\u001b[0m\n\u001b[0m                ^\u001b[0m\n\u001b[0;31mSyntaxError\u001b[0m\u001b[0;31m:\u001b[0m invalid syntax\n"
     ]
    }
   ],
   "source": []
  },
  {
   "cell_type": "code",
   "execution_count": null,
   "metadata": {},
   "outputs": [],
   "source": []
  }
 ],
 "metadata": {
  "kernelspec": {
   "display_name": "Python 3",
   "language": "python",
   "name": "python3"
  },
  "language_info": {
   "codemirror_mode": {
    "name": "ipython",
    "version": 3
   },
   "file_extension": ".py",
   "mimetype": "text/x-python",
   "name": "python",
   "nbconvert_exporter": "python",
   "pygments_lexer": "ipython3",
   "version": "3.7.3"
  },
  "varInspector": {
   "cols": {
    "lenName": 16,
    "lenType": 16,
    "lenVar": 40
   },
   "kernels_config": {
    "python": {
     "delete_cmd_postfix": "",
     "delete_cmd_prefix": "del ",
     "library": "var_list.py",
     "varRefreshCmd": "print(var_dic_list())"
    },
    "r": {
     "delete_cmd_postfix": ") ",
     "delete_cmd_prefix": "rm(",
     "library": "var_list.r",
     "varRefreshCmd": "cat(var_dic_list()) "
    }
   },
   "types_to_exclude": [
    "module",
    "function",
    "builtin_function_or_method",
    "instance",
    "_Feature"
   ],
   "window_display": false
  }
 },
 "nbformat": 4,
 "nbformat_minor": 2
}
